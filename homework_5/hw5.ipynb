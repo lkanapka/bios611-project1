{
 "cells": [
  {
   "cell_type": "code",
   "execution_count": 19,
   "metadata": {},
   "outputs": [
    {
     "name": "stderr",
     "output_type": "stream",
     "text": [
      "/usr/local/lib/python3.8/dist-packages/plotnine/ggplot.py:727: PlotnineWarning: Saving 6.4 x 4.8 in image.\n",
      "/usr/local/lib/python3.8/dist-packages/plotnine/ggplot.py:730: PlotnineWarning: Filename: python_tsne.png\n"
     ]
    }
   ],
   "source": [
    "# Question 3 \n",
    "\n",
    "import pandas as pd\n",
    "from sklearn.preprocessing import MinMaxScaler\n",
    "from sklearn.manifold import TSNE\n",
    "\n",
    "statsData = pd.read_csv(\"datasets_38396_60978_charcters_stats.csv\")\n",
    "statsData = statsData[statsData.Total != 5]\n",
    "statsData = statsData.reset_index(drop=True)\n",
    "\n",
    "mms = MinMaxScaler();\n",
    "normed = mms.fit_transform(statsData.iloc[:,2:7])\n",
    "\n",
    "projection = TSNE(n_components=2).fit_transform(normed);\n",
    "tsne = pd.DataFrame(projection, columns=[\"X1\",\"X2\"])\n",
    "tsne[\"Alignment\"] = statsData[\"Alignment\"];\n",
    "tsne.to_csv(\"python_tsne.csv\", index=False)\n",
    "\n",
    "## Question 4\n",
    "\n",
    "from plotnine import *\n",
    "plot= (ggplot(tsne,aes(\"X1\",\"X2\")) + geom_point(aes(color=\"Alignment\")))\n",
    "plot.save(\"python_tsne.png\")"
   ]
  }
 ],
 "metadata": {
  "kernelspec": {
   "display_name": "Python 3",
   "language": "python",
   "name": "python3"
  },
  "language_info": {
   "codemirror_mode": {
    "name": "ipython",
    "version": 3
   },
   "file_extension": ".py",
   "mimetype": "text/x-python",
   "name": "python",
   "nbconvert_exporter": "python",
   "pygments_lexer": "ipython3",
   "version": "3.8.5"
  }
 },
 "nbformat": 4,
 "nbformat_minor": 4
}
